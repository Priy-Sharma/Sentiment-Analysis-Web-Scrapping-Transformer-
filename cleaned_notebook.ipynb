{
 "cells": [
  {
   "cell_type": "markdown",
   "metadata": {
    "id": "jsR6xsIO2A3A"
   },
   "source": [
    "\n",
    "\n",
    "# **\"Sentiment Analysis of Virtual Reality Headset Reviews: Leveraging Hugging Face Transformers\"**\n",
    "\n",
    "**Introduction:**:\n",
    "\n",
    "In recent years, the popularity of ***Virtual Reality (VR)*** technology has surged, making it essential for consumers to navigate the vast array of products available in the market. To understand ***consumer sentiment towards VR headsets***, I embarked on a project to ***scrape reviews from Amazon using*** ***Beautiful Soup***, focusing specifically on this category due to its rapid growth and the increasing consumer interest. Sentiment analysis plays a crucial role in discerning public opinion, allowing businesses to gain insights into customer experiences, preferences, and pain points. This project harnesses the power of sentiment analysis to categorize reviews into positive, neutral, and negative sentiments, revealing trends that can inform product development and marketing strategies.\n",
    "\n",
    "Utilizing the ***Hugging Face Transformers library***, I leveraged a ***pre-trained model***, which offers a robust starting point for natural language processing tasks. Pre-trained models save time and computational resources, and they come with the advantage of having already learned rich representations from vast datasets. I further ***fine-tuned*** this model on my annotated dataset of VR headset reviews, optimizing its performance for my specific application. By combining ***advanced NLP techniques*** with practical insights from user feedback, this project illustrates the profound impact sentiment analysis can have in enhancing the consumer experience within the burgeoning field of Virtual Reality. For comprehensive guidance on utilizing transformer models in NLP, I referenced the book \"Natural Language Processing with Transformers: Building Language Applications with Hugging Face,\" which provided invaluable insights into this cutting-edge technology.\n",
    "\n",
    "\n",
    "***REF: Natural Language Processing with Transformers Building Language Applications with Hugging Face by Lewis Tunstall, Leandro von Werra & Thomas Wolf***"
   ]
  },
  {
   "cell_type": "code",
   "execution_count": null,
   "metadata": {
    "colab": {
     "base_uri": "https://localhost:8080/"
    },
    "collapsed": true,
    "id": "5XxvNhuy_G40",
    "outputId": "28584c4b-58be-4369-c5e3-b28d4915d330"
   },
   "outputs": [],
   "source": [
    "pip install datasets"
   ]
  },
  {
   "cell_type": "code",
   "execution_count": null,
   "metadata": {
    "colab": {
     "base_uri": "https://localhost:8080/"
    },
    "id": "45bh56v6IXNl",
    "outputId": "910c79fa-e3bf-4cec-c18a-17f7c4946216"
   },
   "outputs": [],
   "source": [
    "## Working in the google colab\n",
    "from google.colab import drive\n",
    "drive.mount(\"/content/drive\")\n",
    "\n",
    "## Libraries required for the scrapping\n",
    "import requests\n",
    "from bs4 import BeautifulSoup\n",
    "\n",
    "import pandas as pd\n",
    "import numpy as np\n",
    "import matplotlib.pyplot as plt\n",
    "\n",
    "from datasets import Dataset, DatasetDict\n",
    "\n",
    "from sklearn.model_selection import train_test_split\n",
    "from sklearn.model_selection import train_test_split\n",
    "from imblearn.over_sampling import RandomOverSampler"
   ]
  },
  {
   "cell_type": "code",
   "execution_count": null,
   "metadata": {
    "id": "_ZM3uNXA8eKi"
   },
   "outputs": [],
   "source": [
    "df_url = pd.DataFrame()"
   ]
  },
  {
   "cell_type": "code",
   "execution_count": null,
   "metadata": {
    "id": "c8xUGcBlTa65"
   },
   "outputs": [],
   "source": [
    "## URL of the Virtual Reality gadget to scrape the product reviews.\n",
    "\n",
    "url_list = ['https://www.amazon.in/RayNeo-Air-Glasses-Ultra-fast-Brightness/dp/B0CJXVPQF8/',\n",
    "            'https://www.amazon.in/Meta-Quest-Console-256GB-Headset/dp/B09Z7KGTVW/',\n",
    "            'https://www.amazon.in/Irusu-Monster-Headset-Controller-Experiences/dp/B01JLAQGNY/',\n",
    "            'https://www.amazon.in/Oculus%C3%82-Advanced-Virtual-Reality-Headset/dp/B099VMT8VZ/',\n",
    "            'https://www.amazon.in/JioDive-Headset-Ayodhya-Experience-4-7-6-7/dp/B0CDWQFZFX/',\n",
    "            'https://www.amazon.in/Headphones-Connectors-Controller-Compatible-Smartphone/dp/B0CLB2579X/',\n",
    "            'https://www.amazon.in/Drumstone-Limited-Warranty-Compatible-Headphones/dp/B0D6BWMYKS/',\n",
    "            'https://www.amazon.in/Irusu-Monster-Headset-Controller-Experiences/dp/B01JLAQGNY/',\n",
    "            'https://www.amazon.in/Irusu-Ultra-Headset-Compatibility-Smartphones/dp/B0DBZ6X28C/',\n",
    "            \"https://www.amazon.in/Headphones-Connectors-Controller-Compatible-Smartphone/dp/B0CLB2579X/\",\n",
    "            \"https://www.amazon.in/Headset-Headphones-Remote-Controller-Smartphones/dp/B09RFJ7PPP/\",\n",
    "            \"https://www.amazon.in/Headset-Headphones-Remote-Controller-Smartphones/dp/B09RFJ7PPP/\",\n",
    "            \"https://www.amazon.in/BLACKPOOL-Headsets-Headphones-Adjustable-Compatible/dp/B0CTX6M3F2/\",\n",
    "            \"https://www.amazon.in/Lapras-Limited-Warranty-Headset-Headphones/dp/B0CCNNLYZ8/\",\n",
    "            \"https://www.amazon.in/Virtual-Reality-Anti-Radiation-Adjustable-Headband/dp/B0BSS1KK67/\",\n",
    "            \"https://www.amazon.in/Drumstone-Compatible-Smartphones-Comfortable-Adjustable/dp/B0BGYJGZQM/\",\n",
    "            \"https://www.amazon.in/Drumstone-Virtual-Wireless-Smartphones-Lossless/dp/B0DDXJ7L7X/\",\n",
    "            \"https://www.amazon.in/Headset-Virtual-Reality-Glasses-Headsets/dp/B0D87JDL8Y/\",\n",
    "            \"https://www.amazon.in/Drumstone-%F0%9D%90%82%F0%9D%90%A8%F0%9D%90%A6%F0%9D%90%9B%F0%9D%90%A8-C936-3D-Glasses-Screen/dp/B0DDJD74DD/\",\n",
    "            \"https://www.amazon.in/Procus-Virtual-Reality-Headset-Android/dp/B015SG1R52/\",\n",
    "            \"https://www.amazon.in/Adjustable-Headphones-Connector-Supports-Mobiles/dp/B09H25G15N/\",\n",
    "            \"https://www.amazon.in/dp/B0CLB2579X/\",\n",
    "            \"https://www.amazon.in/dp/B0CCNNCVN8/\",\n",
    "            \"https://www.amazon.in/Jambar-SHINECON-Universal-Adjustable-Protection/dp/B0D3F5BLFK/\",\n",
    "            \"https://www.amazon.in/BLACKPOOL-VR-Adjustable-Headphones-Controller/dp/B0CMDCLJQ4/\",\n",
    "            \"https://www.amazon.in/Headset-Headphones-Connecots-Compatible-Smartphones/dp/B0CLB2LB7G/\",\n",
    "            \"https://www.amazon.in/dp/B0D3DKTY7K/\",\n",
    "            \"https://www.amazon.in/Headset-Controller-Adjustable-Glasses-Protected/dp/B095K34SQ6/\",\n",
    "            \"https://www.amazon.in/Headset-Headphones-Remote-Controller-Smartphones/dp/B09RFJ7PPP/\",\n",
    "            \"https://www.amazon.in/Blackbox-Unlimited-Universal-Headset-Controller/dp/B0D8PQSNJV/\",\n",
    "            \"https://www.amazon.in/Drumstone-Virtual-Reality-Compatibale-Smartphone/dp/B0CCLG99T3/\",\n",
    "            \"https://www.amazon.in/dp/B0CQ7L5596/\",\n",
    "            \"https://www.amazon.in/Headset-Virtual-Headphones-Compatible-Smartphones/dp/B0DC3LLL1X/\",\n",
    "            \"https://www.amazon.in/Drumstone-Warranty-Virtual-Compatible-Smartphones/dp/B0DBFCLBXS/\",\n",
    "            \"https://www.amazon.in/Meta-Quest-512GB-Breakthrough-Performance/dp/B0CD1JTBSC/\",\n",
    "            \"https://www.amazon.in/Headset-Headphones-Connecots-Compatible-Smartphones/dp/B0CLB2LB7G/\",\n",
    "            \"https://www.amazon.in/Elevea-3D-Cellphone-Panoramic-Smartphones/dp/B0CCNMMZHQ/\",\n",
    "            \"https://www.amazon.in/dp/B0DGVTQDPF/\",\n",
    "            \"https://www.amazon.in/ANEEK-SHINECON-Immersive-Experience-Compatible/dp/B0DGTCCDHD/\",\n",
    "            \"https://www.amazon.in/dp/B0D1HXKRB5/\",\n",
    "            \"https://www.amazon.in/JioDive-Headset-Ayodhya-Experience-4-7-6-7/dp/B0CDWQFZFX/\",\n",
    "            \"https://www.amazon.in/dp/B0DBM5JFPH/\",\n",
    "            \"https://www.amazon.in/dp/B0CLB2LB7G/\",\n",
    "            \"https://www.amazon.in/Drumstone-Warranty-Virtual-Compatible-Smartphones/dp/B0DBFCLBXS/\",\n",
    "            \"https://www.amazon.in/PlayStation-VR2/dp/B0BM4T59XT/\",\n",
    "            \"https://www.amazon.in/Oculus-Quest-All-Gaming-System/dp/B07HNW68ZC/\",\n",
    "            \"https://www.amazon.in/HTC-VIVE-Virtual-Reality-System/dp/B09FPCT3H8/\",\n",
    "            \"https://www.amazon.in/Sony-CFI-2008A01X-PlayStation%C2%AE5-Console-slim/dp/B0CY5HVDS2/\",\n",
    "            \"https://www.amazon.in/HTC-Headset-Including-Controllers-Cushion/dp/B07Y5NNP2B/\",\n",
    "            \"https://www.amazon.in/PICO-6970214573901-4-Ultra-256GB/dp/B0D9K3KLF4/\",\n",
    "            \"https://www.amazon.in/HTC-VIVE-Virtual-Reality-System/dp/B06ZY6LJ2F/\",\n",
    "            \"https://www.amazon.in/Oculus-Touch-Virtual-Reality-System/dp/B073X8N1YW/\",\n",
    "            \"https://www.amazon.in/HTC-VIVE-BUSINESS-VIRTUAL-REALITY/dp/B079VL6RTS/\",\n",
    "            \"https://www.amazon.in/Sony-PlayStation-Horizon-Mountain-Bundle/dp/B0BZT7Q8FG/\",\n",
    "            \"https://www.amazon.in/Headset-Compatible-Android-Virtual-Reality/dp/B0BSLPSK47/\",\n",
    "            \"https://www.amazon.in/Bnext-Anti-Radiation-Adjustable-Smartphones-Replacement/dp/B0CCYFD7SR/\",\n",
    "            \"https://www.amazon.in/Headset-Virtual-Reality-Glasses-Headsets/dp/B0D87JDL8Y/\",\n",
    "            \"https://www.amazon.in/ABROL-Headset-Compatible-Android-Virtual/dp/B0BSXDD92P/\",\n",
    "            \"https://www.amazon.in/DEVIANT%C2%AE-Headset-Compatible-Android-Virtual/dp/B0BHZDXZ81/\",\n",
    "            \"https://www.amazon.in/Bnext-Anti-Radiation-Adjustable-Smartphones-Color-White/dp/B0CCYFLC9G/\",\n",
    "            \"https://www.amazon.in/Without-Remote-Controller-Smartphones-Gaming/dp/B0CKBYPVZB/\",\n",
    "            \"https://www.amazon.in/Virtual-Adjustable-Headband-Compatible-Smartphones/dp/B0BZKZLQTY/\",\n",
    "            \"https://www.amazon.in/Jambar-Shincon-Smartphone-Compatible-Games-VR/dp/B0D37X115P/\",\n",
    "            \"https://www.amazon.in/Bnext-Anti-Radiation-Smartphones-Replacement-Color-Black/dp/B0CCYFC75B/\",\n",
    "            \"https://www.amazon.in/Techking-VR-Headset-Experience-VR-Compatible/dp/B0CZSP429B/\",\n",
    "            \"https://www.amazon.in/Lapras-Glasses-Cellphone-Panoramic-Smartphones/dp/B0CCNLKWC9/\",\n",
    "            \"https://www.amazon.in/Techking-SPECIAL-WARRANTY-Compatibale-Smartphone-24/dp/B0CZSLK86X/\",\n",
    "            \"https://www.amazon.in/TechKing-Distance-Adjustable-Compatible-Smartphones/dp/B09MTVJZSK/\",\n",
    "            \"https://www.amazon.in/Mabron-Anti-Radiation-Adjustable-Compatible-Smartphones/dp/B09SD9SMQ1/\",\n",
    "            \"https://www.amazon.in/BEEBIRD-Headsets-Headphones-Adjustable-Compatible/dp/B0CTX7LLBL/\",\n",
    "            \"https://www.amazon.in/Headset-Headphones-Connecots-Compatible-Smartphones/dp/B0CLB2LB7G/\",\n",
    "            \"https://www.amazon.in/Warranty-Learning-Watching-Experience-Mobiles/dp/B0CQR24D52/\",\n",
    "            \"https://www.amazon.in/Cospex-Virtual-Reality-Headset-Smartphones/dp/B0BFF4VWSK/\",\n",
    "            \"https://www.amazon.in/Headphones-Connectors-Controller-Compatible-Smartphone/dp/B0CLB2579X/\",\n",
    "            \"https://www.amazon.in/Utopia-Headset-Virtual-Reality-Movies/dp/B07C8GX5YW/\",\n",
    "            'https://www.amazon.in/Maizic-Smarthome-Tricams-Resolution-Function/dp/B0D9S18JG2/',\n",
    "            'https://www.amazon.in/Personal-Headsets-Display-Hyperopia-Compatible/dp/B09C1TQQ97/',\n",
    "            'https://www.amazon.in/EZVIZ-HIKVISION-Resolution-Coverage-Detection/dp/B09YQ1JSKQ/',\n",
    "            'https://www.amazon.in/HTC-Vive-Virtual-Reality-Headset/dp/B0BZYXDG3K/',\n",
    "            'https://www.amazon.in/fotonVR-All-Headset-Immersive-Content/dp/B0D89V6GPB/',\n",
    "            'https://www.amazon.in/Meta-Quest-Bundled-X-Ninja-Battery/dp/B0BPDVZRPJ/',\n",
    "            'https://www.amazon.in/fotonVR-All-Headset-Immersive-Content/dp/B0D2NW85D4/',\n",
    "            'https://www.amazon.in/Qubo-Security-Camera-Mobile-Recording/dp/B0CG98L4Z8/',\n",
    "            'https://www.amazon.in/Sony-PlayStation-VR2-5/dp/B0CPFLL79T/',\n",
    "            'https://www.amazon.in/HP-Reverb-Virtual-Reality-Headset/dp/B08TB5J7KY/',\n",
    "            'https://www.amazon.in/TECHDASH-Security-Waterproof-Detection-Agriculture/dp/B0CS9N1JYM/',\n",
    "            'https://www.amazon.in/HTC-Cosmos-Virtual-Reality-System/dp/B084ZRYVT7/',\n",
    "            'https://www.amazon.in/Welko-BB-BROTHER-Foldable-Drone-With-Camera-For-Adults-4k-1080P-HD-Drones-Toys-GPS-Auto-Return-One-Touch-Take-off-and-landing/dp/B0CLKD2H25/',\n",
    "            'https://www.amazon.in/HTC-Vive-Focus-3/dp/B0BPLYQN5N/',\n",
    "            'https://www.amazon.in/901001018528-PICO-256GB-Headset-White/dp/B0BGLTNTCY/',\n",
    "            'https://www.amazon.in/DPVR-Business-Simulator-Headsets-Hardband/dp/B0BL33L984/',\n",
    "            'https://www.amazon.in/Meta-Quest-Console-Virtual-Reality/dp/B0CB3WXL12/',\n",
    "            'https://www.amazon.in/%60XREAL%60Air-2-AR-Glasses-RED/dp/B0DHNZ8B23/',\n",
    "            'https://www.amazon.in/HTC-Vive-Pro-Full-Kit/dp/B0B1L4MBWT/',\n",
    "            'https://www.amazon.in/Pico-All-128GB-Headset-White/dp/B0BGLTDNWR/',\n",
    "            'https://www.amazon.in/HTC-Virtual-Reality-Headset-Controllers/dp/B0BQXDFLJ6/',\n",
    "            'https://www.amazon.in/EZVIZ-Hikvision-Dual-Lens-AI-Powered-Weatherproof/dp/B0D7MM2CF4/',\n",
    "            'https://www.amazon.in/Imou-Security-Advanced-Surveillance-Detection/dp/B07YFWVRCM/',\n",
    "            'https://www.amazon.in/REIDEL-D4-REIDEL-Foldable-Toy-Drone-with-HQ-WiFi-Camera-Remote-Control-for-Kids-Quadcopter-with-Gesture-Selfie-Flips-Bounce-Mode-App-One-Key-Headless-STAR-Mode-functionality/dp/B0CJ94HNHK/',\n",
    "            'https://www.amazon.in/RAYNEO-Air-Glasses-600nits-Brightness/dp/B0CZN14CYG/',\n",
    "            'https://www.amazon.in/Refurbished-Ricoh-Resolution-Interchageable-External/dp/B0DDTLFB62/',\n",
    "            'https://www.amazon.in/PlayStation-VR-Marvels-Iron-Bundle/dp/B08CD34NZH/',\n",
    "            'https://www.amazon.in/Meta-Quest-Advanced-All-One/dp/B09Z7JPTX4/',\n",
    "            'https://www.amazon.in/Vimtag-FI-362C-Security-Storage-Warranty/dp/B0D31MD4KB/']\n"
   ]
  },
  {
   "cell_type": "code",
   "execution_count": null,
   "metadata": {
    "id": "MbSBZ6iscwDh"
   },
   "outputs": [],
   "source": [
    "df_url['URL'] = url_list"
   ]
  },
  {
   "cell_type": "code",
   "execution_count": null,
   "metadata": {
    "id": "IxUyZE1glcpE"
   },
   "outputs": [],
   "source": [
    "df_url.drop_duplicates(inplace= True)"
   ]
  },
  {
   "cell_type": "code",
   "execution_count": null,
   "metadata": {
    "colab": {
     "base_uri": "https://localhost:8080/",
     "height": 424
    },
    "id": "UBVtcL52nHc_",
    "outputId": "1c423851-2bb9-442b-f99b-e36bf5927dee"
   },
   "outputs": [],
   "source": [
    "df_url"
   ]
  },
  {
   "cell_type": "code",
   "execution_count": null,
   "metadata": {
    "id": "aY15dboVUSaa"
   },
   "outputs": [],
   "source": [
    "API_KEY = input(\"Enter your API key: \") # Give your ScraperAPI key\n"
   ]
  },
  {
   "cell_type": "code",
   "execution_count": null,
   "metadata": {
    "colab": {
     "base_uri": "https://localhost:8080/",
     "height": 391
    },
    "collapsed": true,
    "id": "SjYmAW-ceJka",
    "outputId": "abbe4bd5-2148-4cea-c877-6871a572e1ed"
   },
   "outputs": [],
   "source": [
    "reviewlist = []\n",
    "API_KEY = 'de28b7337b31e099b1dbd242619e830e'\n",
    "\n",
    "def getScraperAPIUrl(url):\n",
    "    return f\"http://api.scraperapi.com?api_key={API_KEY}&url={url}\"\n",
    "\n",
    "def extractReviews(reviewUrl, pageNumber):\n",
    "    scraper_api_url = getScraperAPIUrl(reviewUrl)\n",
    "    resp = requests.get(scraper_api_url)\n",
    "    soup = BeautifulSoup(resp.text, 'html.parser')\n",
    "    reviews = soup.findAll('div', {'data-hook': \"review\"})\n",
    "\n",
    "    for item in reviews:\n",
    "        try:\n",
    "            Review_Title = item.find('span', {'data-hook': \"review-title\"}).find('span', class_='cr-translated-review-content').text.strip()\n",
    "        except:\n",
    "            try:\n",
    "                Review_Title = item.find('span', {'data-hook': \"review-title\"}).text.strip()\n",
    "            except:\n",
    "                Review_Title = None\n",
    "\n",
    "        try:\n",
    "            Review_Body = item.find('span', {'data-hook': 'review-body'}).find('span', class_='cr-translated-review-content').text.strip()\n",
    "        except:\n",
    "            try:\n",
    "                Review_Body = item.find('span', {'data-hook': 'review-body'}).text.strip()\n",
    "            except:\n",
    "                Review_Body = None\n",
    "\n",
    "        if Review_Title and Review_Body:\n",
    "            review = {\n",
    "                'productTitle': soup.title.text.replace(\"Amazon.in:Customer reviews: \", \"\").strip(),\n",
    "                'Review Title': Review_Title,\n",
    "                'Rating': item.find('i', {'data-hook': 'cmps-review-star-rating'}).text.strip(),\n",
    "                'Review Body': Review_Body,\n",
    "            }\n",
    "            reviewlist.append(review)\n",
    "\n",
    "    return reviewlist\n",
    "\n",
    "def total_pages(reviewUrl):\n",
    "    scraper_api_url = getScraperAPIUrl(reviewUrl)\n",
    "    resp = requests.get(scraper_api_url)\n",
    "    soup = BeautifulSoup(resp.text, 'html.parser')\n",
    "    reviews = soup.find('div', {'data-hook': \"cr-filter-info-review-rating-count\"})\n",
    "\n",
    "    if reviews:\n",
    "        # Remove commas from the number before converting it to an integer\n",
    "        review_count_text = reviews.text.strip().split(', ')[1].split(\" \")[0]\n",
    "        review_count = int(review_count_text.replace(',', ''))\n",
    "        return review_count\n",
    "    return 0\n",
    "\n",
    "\n",
    "def main(productUrl):\n",
    "    reviewlist.clear()  # Clear the review list before processing each product\n",
    "    reviewUrl = productUrl.replace(\"dp\", \"product-reviews\")\n",
    "    totalPg = total_pages(reviewUrl)\n",
    "    print(f\"Total pages: {totalPg}\")\n",
    "\n",
    "    for i in range(1, totalPg // 10 + 2):\n",
    "      if i <= 13:\n",
    "          print(f\"Scraping page {i}\")\n",
    "          try:\n",
    "              reviewUrl = productUrl.replace(\"dp\", \"product-reviews\") + f\"ref=cm_cr_arp_d_paging_btm_next_{i}?ie=UTF8&reviewerType=all_reviews&pageNumber={i}\"\n",
    "              extractReviews(reviewUrl, i)\n",
    "          except Exception as e:\n",
    "              print(f\"Error on page {i}: {e}\")\n",
    "      else:\n",
    "        break\n",
    "\n",
    "    df_reviews = pd.DataFrame(reviewlist)\n",
    "    return df_reviews\n",
    "\n",
    "# Apply the main function to all URLs in df_url and concatenate the results\n",
    "all_reviews_df = pd.concat(df_url['URL'].apply(main).tolist(), ignore_index=True)\n"
   ]
  },
  {
   "cell_type": "code",
   "execution_count": null,
   "metadata": {
    "id": "JKS3cBJruScV"
   },
   "outputs": [],
   "source": [
    "## Save dataframe in the excel format\n",
    "path = '/content/drive/MyDrive/scrapped_amazon_reviews_1.xlsx'\n",
    "all_reviews_df.to_excel(path,  index=False)"
   ]
  },
  {
   "cell_type": "code",
   "execution_count": null,
   "metadata": {
    "id": "YxU1rkwCMRRR"
   },
   "outputs": [],
   "source": [
    "path = '/content/drive/MyDrive/scrapped_amazon_reviews_1.xlsx'\n",
    "df = pd.read_excel(path)"
   ]
  },
  {
   "cell_type": "code",
   "execution_count": null,
   "metadata": {
    "colab": {
     "base_uri": "https://localhost:8080/",
     "height": 206
    },
    "id": "mF9mCub7v-6O",
    "outputId": "b728882b-cefe-488c-8dba-63633ec5e348"
   },
   "outputs": [],
   "source": [
    "df.head()"
   ]
  },
  {
   "cell_type": "code",
   "execution_count": null,
   "metadata": {
    "colab": {
     "base_uri": "https://localhost:8080/"
    },
    "id": "6D-H-X_YwmBm",
    "outputId": "b4346c91-da24-4531-b9fe-7b622b3f04dd"
   },
   "outputs": [],
   "source": [
    "df.shape"
   ]
  },
  {
   "cell_type": "code",
   "execution_count": null,
   "metadata": {
    "colab": {
     "base_uri": "https://localhost:8080/"
    },
    "id": "qKKqTgS1v_3y",
    "outputId": "793114a0-85ad-4926-eaf9-e4bdd969abd7"
   },
   "outputs": [],
   "source": [
    "df.isna().values.sum()"
   ]
  },
  {
   "cell_type": "code",
   "execution_count": null,
   "metadata": {
    "colab": {
     "base_uri": "https://localhost:8080/"
    },
    "id": "McqeGenxwg4z",
    "outputId": "057dc42d-dd53-4a9e-83ea-f39f9412778c"
   },
   "outputs": [],
   "source": [
    "df.info()"
   ]
  },
  {
   "cell_type": "code",
   "execution_count": null,
   "metadata": {
    "colab": {
     "base_uri": "https://localhost:8080/",
     "height": 272
    },
    "id": "tZ8kW397wi7D",
    "outputId": "e28e2b87-8c47-43ce-9daf-298aa6552e97"
   },
   "outputs": [],
   "source": [
    "df['Rating'].value_counts(normalize=True) * 100"
   ]
  },
  {
   "cell_type": "markdown",
   "metadata": {
    "id": "F6XqhX7Nv0qA"
   },
   "source": [
    "Data is imbalanced. We will balance the data using random oversampling in the coming step."
   ]
  },
  {
   "cell_type": "code",
   "execution_count": null,
   "metadata": {
    "id": "XCpG40-D1NJF"
   },
   "outputs": [],
   "source": [
    "df_final = df.copy()"
   ]
  },
  {
   "cell_type": "code",
   "execution_count": null,
   "metadata": {
    "id": "x1rY9wHIwwYN"
   },
   "outputs": [],
   "source": [
    "df_final['Review'] = df_final['Review Title'] + df_final['Review Body']\n",
    "df_final['Rating'] = df_final['Rating'].apply(lambda x: x.split()[0])"
   ]
  },
  {
   "cell_type": "code",
   "execution_count": null,
   "metadata": {
    "colab": {
     "base_uri": "https://localhost:8080/"
    },
    "id": "OmwakmvtYdk5",
    "outputId": "1c1df58e-168e-4b13-d0d7-0344b6a18696"
   },
   "outputs": [],
   "source": [
    "df_final.shape"
   ]
  },
  {
   "cell_type": "code",
   "execution_count": null,
   "metadata": {
    "collapsed": true,
    "id": "ItkXhxi_1Ygi"
   },
   "outputs": [],
   "source": [
    "## Annotating Reviews with Sentiment Labels Based on Ratings\n",
    "def annotation(rating):\n",
    "  if  3 < rating and rating < 6:\n",
    "    return \"Positive\"\n",
    "  elif rating == 3:\n",
    "    return \"Neutral\"\n",
    "  else:\n",
    "    return \"Negative\"\n",
    "\n",
    "df_final['Rating'] = pd.to_numeric(df_final['Rating'], errors='coerce')\n",
    "df_final['Label'] = df_final['Rating'].astype(int).apply(annotation)"
   ]
  },
  {
   "cell_type": "code",
   "execution_count": null,
   "metadata": {
    "id": "_lCh1YOw6jDs"
   },
   "outputs": [],
   "source": [
    "df_final['Label_int'] = df_final['Label'].map({\"Positive\": 2, \"Neutral\": 1, \"Negative\":0})"
   ]
  },
  {
   "cell_type": "code",
   "execution_count": null,
   "metadata": {
    "id": "R-cYQsIo1I14"
   },
   "outputs": [],
   "source": [
    "## Dropping the unnecessary columns\n",
    "df_final.drop(columns = ['productTitle', 'Rating', 'Review Title', 'Review Body', \"Label\"], inplace=True)"
   ]
  },
  {
   "cell_type": "code",
   "execution_count": null,
   "metadata": {
    "colab": {
     "base_uri": "https://localhost:8080/",
     "height": 238
    },
    "id": "bGM65Ks53oYI",
    "outputId": "efd50013-2caf-4bf3-e0b7-76d9e5a0de19"
   },
   "outputs": [],
   "source": [
    "df_final.iloc[5:11, :]"
   ]
  },
  {
   "cell_type": "code",
   "execution_count": null,
   "metadata": {
    "colab": {
     "base_uri": "https://localhost:8080/",
     "height": 140
    },
    "id": "bulG09Tk33S3",
    "outputId": "f1334476-1eb3-4d4e-c2ea-32db632f30a5"
   },
   "outputs": [],
   "source": [
    "df_final['Review'].iloc[9]"
   ]
  },
  {
   "cell_type": "code",
   "execution_count": null,
   "metadata": {
    "colab": {
     "base_uri": "https://localhost:8080/",
     "height": 443
    },
    "id": "nUc3SNRn9Kkh",
    "outputId": "1b031d3a-7e65-46d5-8577-c31cc596fef2"
   },
   "outputs": [],
   "source": [
    "df_final[\"Words Per Review\"] = df_final[\"Review\"].str.split().apply(len)\n",
    "df_final.boxplot(\"Words Per Review\", by=\"Label_int\", grid=False, color=\"black\")\n",
    "plt.suptitle(\"\")\n",
    "plt.xlabel(\"\")\n",
    "plt.show()"
   ]
  },
  {
   "cell_type": "markdown",
   "metadata": {
    "id": "isD6AVcQvfoB"
   },
   "source": [
    "## Reviews contain a large number of words that exceed the maximum token limit of DistilBERT (which is 512 tokens), We will need to truncate them. DistilBERT can only process sequences up to 512 tokens, so any review that is longer than that should be truncated to avoid issues."
   ]
  },
  {
   "cell_type": "code",
   "execution_count": null,
   "metadata": {
    "colab": {
     "base_uri": "https://localhost:8080/"
    },
    "id": "gOgDJQNL7VYJ",
    "outputId": "2a01e249-5d99-4a49-e400-a7f5670ab8be"
   },
   "outputs": [],
   "source": [
    "## Balancing the Dataset Using Random Oversampling\n",
    "\n",
    "X = df_final['Review']\n",
    "y = df_final['Label_int']\n",
    "\n",
    "X = X.values.reshape(-1, 1)\n",
    "ros = RandomOverSampler(random_state=42)\n",
    "\n",
    "# Perform oversampling\n",
    "X_resampled, y_resampled = ros.fit_resample(X, y)\n",
    "\n",
    "# Convert the resampled arrays back to a DataFrame for further processing\n",
    "oversampled_df = pd.DataFrame({'review': X_resampled.flatten(), 'label': y_resampled})\n",
    "\n",
    "print(oversampled_df['label'].value_counts())\n"
   ]
  },
  {
   "cell_type": "code",
   "execution_count": null,
   "metadata": {
    "id": "xWxGMVjABUY0"
   },
   "outputs": [],
   "source": [
    "from datasets import Dataset, DatasetDict\n",
    "from sklearn.model_selection import train_test_split"
   ]
  },
  {
   "cell_type": "code",
   "execution_count": null,
   "metadata": {
    "colab": {
     "base_uri": "https://localhost:8080/"
    },
    "id": "QPVr9l_OA7av",
    "outputId": "3e622b2e-681d-4644-8789-68719284c448"
   },
   "outputs": [],
   "source": [
    "# Split the DataFrame into training and test sets\n",
    "train_df, test_df = train_test_split(oversampled_df, test_size=0.2, stratify=oversampled_df['label'])\n",
    "\n",
    "# Convert DataFrames to Hugging Face Datasets\n",
    "train_dataset = Dataset.from_pandas(train_df)\n",
    "test_dataset = Dataset.from_pandas(test_df)\n",
    "\n",
    "dataset_dict = DatasetDict({\n",
    "    'train': train_dataset,\n",
    "    'test': test_dataset\n",
    "})\n",
    "\n",
    "print(dataset_dict)"
   ]
  },
  {
   "cell_type": "code",
   "execution_count": null,
   "metadata": {
    "id": "lQg_zK0tERBQ"
   },
   "outputs": [],
   "source": [
    "dataset_dict = dataset_dict.remove_columns(['__index_level_0__'])"
   ]
  },
  {
   "cell_type": "code",
   "execution_count": null,
   "metadata": {
    "colab": {
     "base_uri": "https://localhost:8080/"
    },
    "id": "dpT1U3eGETV3",
    "outputId": "d52366b9-a0ae-4650-d470-12ccb84eab4e"
   },
   "outputs": [],
   "source": [
    "print(dataset_dict)"
   ]
  },
  {
   "cell_type": "code",
   "execution_count": null,
   "metadata": {
    "colab": {
     "base_uri": "https://localhost:8080/",
     "height": 304,
     "referenced_widgets": [
      "a8ebeefc549b453db9119f1445dedd74",
      "8747669e68304b0db1e0dc2cdeaa1736",
      "a997aa79421e4341935e819c27cc7c43",
      "eb36ab67ede743f3a41aff38938bac00",
      "28ec0b0dabc945cdb1cb1f418bbde17c",
      "e6f2566c3c49482aa63e186e2dca3d7c",
      "87b6c6243072483b80db39c3add1bcff",
      "ac9a5c9aed324687af6a4ae571579be0",
      "48e693ca76504d3c95b8c25bd29c0306",
      "4e1d15468819413c97e7fc4772ddabed",
      "f842bf5e1a8a4cdd81900e026bc69dc2",
      "59d4764de6894f3fb2ce41230ab7d4bb",
      "bd2eac75d048457c950e986d095328ed",
      "adf2dc9d8c0d4ccfa11853454c4b8048",
      "7472b40765374b0b89140b321b41a7b0",
      "23d5bcb9a734413db95fe6f47b357b60",
      "e3890f77bc9a4faf8b28f49680ad1d26",
      "6d9f2ca9b00e48be94a7e8c1c79a249e",
      "ffb400924be343279b1e25eed9dbe4a4",
      "9cf1dd2ed78246a79ab8619ee1172852",
      "d8543d9d24234a47ba9ed40ec4dc9306",
      "ffa959229fa2417c922fdfa82e733fa4",
      "d53f1aab635547d6bf83917162234a1a",
      "39f08bc0d1a249a29024d0b9486b5096",
      "c785f2e7ce2146c7872a9308d98cc73a",
      "3f51fca28a7d4e9f90e54de9e9740b21",
      "f5aea43b19e146f09417659ca3774a8c",
      "ef0fc41941474d369f9b0a775b3a6542",
      "c05c4c1f1ba84373afc85ecfe3ed9f1c",
      "28980593ec114de1a1fa865cf188897e",
      "2eea120490b24fb89761500c1eb9de4f",
      "e41ebc0e36f94b3190c42bf707e7e1c5",
      "274c6cd67b9e426bb84c1f615507303b",
      "ae0fe073c9ad4ca5bfd9942633e549ba",
      "ed2e35b39ea44d419f1a6ddac5947274",
      "07cf19ee47d04b8a9d13eaba30b6dc22",
      "a7c0aa94fe9c4b149476ac16e4b1d594",
      "bd966671281a446b9c9466ddfafc5f59",
      "fd2dc897a27f4133b03d741d20b646d8",
      "5df5f7be8b42438bb3e29a1d728571f3",
      "9b0d5f0247c744789edad8abbc14a234",
      "f6c6ff5b1a404119b1d371f0cf79727c",
      "490d821decd14ee490e053a3ce50a443",
      "a8e6170272744873b72b54c516c6a67c"
     ]
    },
    "collapsed": true,
    "id": "fg9ynR6Z6UG1",
    "outputId": "0e033040-f44a-4eab-94ec-293e77a2386e"
   },
   "outputs": [],
   "source": [
    "## Subword Tokenization\n",
    "\n",
    "from transformers import AutoTokenizer\n",
    "model_ckpt = \"distilbert-base-uncased\"\n",
    "tokenizer = AutoTokenizer.from_pretrained(model_ckpt)"
   ]
  },
  {
   "cell_type": "markdown",
   "metadata": {
    "id": "hCEf5THFxfQE"
   },
   "source": [
    "**Huggingface Transformers provides a convenient AutoTokenizer class that allows us to quickly load the tokenizer associated with a pretrained model.**"
   ]
  },
  {
   "cell_type": "code",
   "execution_count": null,
   "metadata": {
    "colab": {
     "base_uri": "https://localhost:8080/",
     "height": 81,
     "referenced_widgets": [
      "75caf23415f94374b991e39537320e4f",
      "eef508c972434fedae909582a81525c7",
      "937c1a5cc14c447992fdb0a4c09acc07",
      "a8d79cc21b6a4daa857523a626497d9c",
      "612d6f36ef504e1f996618c238202054",
      "32a64a40702947809005eb6c007db052",
      "f9e722d736fb44d9a93854ae2c35808b",
      "fb64f989616c4562aafe9b053584784d",
      "2dd7d16c6f224cf9b79a7ae38ad4abe4",
      "3f118e5335144b19a6d4559a6a760e0e",
      "318671f01c444681a39cbd5c93e18b16",
      "6fe2858fffb34fce81be30f3e61db7de",
      "8988a717621242a39d0b61ba6b100a14",
      "41121ec1109049feb675b65d6ee1d4b0",
      "056093d2a8fc4cc99cd9d8e8526016f9",
      "1e771092e48149c9907af32f0153750a",
      "d6da7cde47184f4084c73fa1fc4df3c5",
      "44b2c3b8bfd04b07b337a0e30306ed0d",
      "8dd7ecf079664cf08392258d31b73339",
      "d3cc341c81074d398a9799e438681e53",
      "349f97235aa64f85a13cbf146fbadeab",
      "7978efea90ca4a88b2fa246da1ec0759"
     ]
    },
    "id": "dDSD5xqt8Vo2",
    "outputId": "83620941-daa7-4324-e532-62e4c7e83b42"
   },
   "outputs": [],
   "source": [
    "## Tokenization of Text Data for Model Input\"\n",
    "\n",
    "def tokenize(batch):\n",
    "    return tokenizer(batch[\"review\"], padding=True, truncation=True)\n",
    "\n",
    "dataset_encoded = dataset_dict.map(tokenize, batched=True, batch_size=None)"
   ]
  },
  {
   "cell_type": "markdown",
   "metadata": {
    "id": "nZGrkqjjxKUd"
   },
   "source": [
    "* **padding=True will pad the examples with zeros to the size of the longest one\n",
    "in a batch, and truncation=True will truncate the examples to the model’s maximum context size.**\n",
    "\n",
    "* **we’ve set batch_size=None, so that our tokenize() function will be applied on the full dataset as a single batch. This ensures that the input tensors and attention masks have the same shape globally.**"
   ]
  },
  {
   "cell_type": "code",
   "execution_count": null,
   "metadata": {
    "colab": {
     "base_uri": "https://localhost:8080/"
    },
    "id": "Iqi_u_3sGIHI",
    "outputId": "90803789-aa31-4bdd-9111-b9d8d4454b02"
   },
   "outputs": [],
   "source": [
    "dataset_encoded\n",
    "print(dataset_encoded [\"train\"].column_names)\n"
   ]
  },
  {
   "cell_type": "markdown",
   "metadata": {
    "id": "Ruey9f67yVkR"
   },
   "source": [
    "**The attention mask allows the model to ignore the padded parts of the input**\n"
   ]
  },
  {
   "cell_type": "markdown",
   "metadata": {
    "id": "3mrMBl75II28"
   },
   "source": [
    "## Loding Pretrained Model"
   ]
  },
  {
   "cell_type": "code",
   "execution_count": null,
   "metadata": {
    "colab": {
     "base_uri": "https://localhost:8080/",
     "height": 104,
     "referenced_widgets": [
      "abdb1485b6a34eebb25dcf01a14c80fa",
      "e85a35d41c09440b99c3dd5fec6f3db2",
      "917a947aca954a1f8323e6668540a602",
      "54ccf981e3db4f7589b52a471c9941dc",
      "9c40277de941408d96909775197b7dbc",
      "a25407e1a3284c4a8341cb87afdefcc6",
      "4f3962a319094f45b7e4a580570b0154",
      "b1ce3d2cab7f4f70a115e7a709b012e2",
      "e82a7ba7479044b1bd8336cdd8d06fbb",
      "c4e6d16f5c904e7694dbfd91d5725098",
      "1f2d61973e1e498097e43548c7f8adc0"
     ]
    },
    "id": "Gpc6jvNAHqj1",
    "outputId": "7a72e9a1-7e62-483f-d14b-7be9bf067557"
   },
   "outputs": [],
   "source": [
    "import torch\n",
    "from transformers import AutoModelForSequenceClassification\n",
    "\n",
    "# Define device (GPU if available, otherwise CPU)\n",
    "device = torch.device(\"cuda\" if torch.cuda.is_available() else \"cpu\")\n",
    "\n",
    "num_labels = 3  # We have 3 sentiment labels (positive, neutral, negative)\n",
    "model = (AutoModelForSequenceClassification\n",
    "         .from_pretrained(model_ckpt, num_labels=num_labels)\n",
    "         .to(device))  # Move the model to the device\n"
   ]
  },
  {
   "cell_type": "code",
   "execution_count": null,
   "metadata": {
    "id": "o7et5nqK8s_z"
   },
   "outputs": [],
   "source": [
    "from sklearn.metrics import accuracy_score, f1_score\n",
    "def compute_metrics(pred):\n",
    "    labels = pred.label_ids\n",
    "    preds = pred.predictions.argmax(-1)\n",
    "    f1 = f1_score(labels, preds, average=\"weighted\")\n",
    "    acc = accuracy_score(labels, preds)\n",
    "    return {\"accuracy\": acc, \"f1\": f1}\n"
   ]
  },
  {
   "cell_type": "code",
   "execution_count": null,
   "metadata": {
    "id": "6-hIVfK9F4ve"
   },
   "outputs": [],
   "source": [
    "from transformers import Trainer, TrainingArguments\n",
    "\n",
    "batch_size = 32\n",
    "logging_steps = len(dataset_encoded[\"train\"]) // batch_size\n",
    "model_name = f\"{model_ckpt}-finetuned-emotion\"\n",
    "training_args = TrainingArguments(\n",
    "    output_dir=model_name,\n",
    "    num_train_epochs=3,\n",
    "    learning_rate=2e-5,\n",
    "    per_device_train_batch_size=batch_size,\n",
    "    per_device_eval_batch_size=batch_size,\n",
    "    weight_decay=0.01,\n",
    "    disable_tqdm=False,\n",
    "    logging_steps=logging_steps,\n",
    "    log_level=\"error\",\n",
    "    report_to=\"none\"  # Disable WandB and Hugging Face Hub reporting\n",
    ")"
   ]
  },
  {
   "cell_type": "markdown",
   "metadata": {
    "id": "3WLxXuJby_Fd"
   },
   "source": [
    "**Logging Steps:** Calculates how often (in terms of steps) to log training\n",
    "information. It divides the total number of training samples by the batch size.\n",
    "\n",
    "**Logging Steps:** Calculates how often (in terms of steps) to log training information. It divides the total number of training samples by the batch size.\n",
    "\n",
    "**Training Arguments:** Initializes a TrainingArguments object to define various settings for the training process. The first argument specifies where to save the model outputs.\n",
    "\n",
    "**Epochs:** Specifies that the model will be trained for 2 complete passes over the training dataset.\n",
    "\n",
    "**Learning Rate:** Sets the learning rate for the optimizer to 2e-5, controlling the size of weight updates during training.\n",
    "\n",
    "**Evaluation Batch Size:** Sets the batch size for evaluation (if applicable) to the same value as the training batch size.\n",
    "\n",
    "**Weight Decay:** Applies L2 regularization with a factor of 0.01, helping to prevent overfitting by penalizing large weights.\n",
    "\n",
    "**TQDM Progress Bar:** If set to True, disables the TQDM progress bar during training. By default, it shows progress.\n",
    "\n",
    "**Logging Steps:** Uses the previously calculated logging_steps to determine how often to log training metrics.\n",
    "\n",
    "**Log Level:** Sets the logging level to \"error\", meaning that only error messages will be displayed.\n",
    "\n",
    "**Reporting:** Disables reporting to external tools like WandB (Weights & Biases) and Hugging Face Hub during training.\n"
   ]
  },
  {
   "cell_type": "code",
   "execution_count": null,
   "metadata": {
    "colab": {
     "base_uri": "https://localhost:8080/",
     "height": 204
    },
    "id": "dKWPBnWK9Dwq",
    "outputId": "33812439-9234-4e2f-f492-a57fffe9c7c2"
   },
   "outputs": [],
   "source": [
    "## Training the Model with the Hugging Face Trainer API\n",
    "\n",
    "from transformers import Trainer\n",
    "\n",
    "trainer = Trainer(\n",
    "    model=model,\n",
    "    args=training_args,\n",
    "    compute_metrics=compute_metrics,  # Optional, can be removed if not needed\n",
    "    train_dataset=dataset_encoded[\"train\"],\n",
    "    tokenizer=tokenizer\n",
    ")\n",
    "\n",
    "trainer.train()\n"
   ]
  },
  {
   "cell_type": "code",
   "execution_count": null,
   "metadata": {
    "colab": {
     "base_uri": "https://localhost:8080/",
     "height": 17
    },
    "id": "AdNk0Gm99H0W",
    "outputId": "08413292-964e-4596-8be0-84a7942878b1"
   },
   "outputs": [],
   "source": [
    "preds_output = trainer.predict(dataset_encoded[\"test\"])"
   ]
  },
  {
   "cell_type": "code",
   "execution_count": null,
   "metadata": {
    "colab": {
     "base_uri": "https://localhost:8080/"
    },
    "id": "4HMxkE8X9MRF",
    "outputId": "92f8e7b7-4102-464a-8b6f-3cc04974f68d"
   },
   "outputs": [],
   "source": [
    "preds_output.metrics"
   ]
  },
  {
   "cell_type": "code",
   "execution_count": null,
   "metadata": {
    "id": "lMX-YKOS9TdM"
   },
   "outputs": [],
   "source": [
    "import numpy as np\n",
    "y_preds = np.argmax(preds_output.predictions, axis=1)"
   ]
  },
  {
   "cell_type": "code",
   "execution_count": null,
   "metadata": {
    "colab": {
     "base_uri": "https://localhost:8080/",
     "height": 472
    },
    "id": "SX85PESR9WJH",
    "outputId": "fd68a21e-acbe-4dd9-e5ae-f2dc8240fddd"
   },
   "outputs": [],
   "source": [
    "from sklearn.metrics import confusion_matrix, ConfusionMatrixDisplay\n",
    "import matplotlib.pyplot as plt\n",
    "\n",
    "# True labels from the test set\n",
    "y_test_true = dataset_encoded['test']['label']\n",
    "\n",
    "# Compute the confusion matrix\n",
    "cm = confusion_matrix(y_test_true, y_preds)\n",
    "\n",
    "# Plot the confusion matrix\n",
    "disp = ConfusionMatrixDisplay(confusion_matrix=cm)\n",
    "disp.plot(cmap=plt.cm.Blues)  # You can choose different color maps\n",
    "plt.title('Confusion Matrix')\n",
    "plt.show()"
   ]
  }
 ],
 "metadata": {
  "accelerator": "GPU",
  "colab": {
   "gpuType": "T4",
   "provenance": []
  },
  "kernelspec": {
   "display_name": "Python 3",
   "name": "python3"
  },
  "language_info": {
   "name": "python"
  }
 },
 "nbformat": 4,
 "nbformat_minor": 0
}
